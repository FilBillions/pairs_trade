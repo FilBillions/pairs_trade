{
 "cells": [
  {
   "cell_type": "code",
   "execution_count": 1,
   "id": "7a587a7a-8f1d-4814-8fba-0b067a99a35f",
   "metadata": {},
   "outputs": [],
   "source": [
    "from coint_backtest import CointegrationBacktest"
   ]
  },
  {
   "cell_type": "code",
   "execution_count": 2,
   "id": "a0b493af-475f-4f36-9351-61713d6a4926",
   "metadata": {},
   "outputs": [],
   "source": [
    "test = CointegrationBacktest()"
   ]
  },
  {
   "cell_type": "code",
   "execution_count": 3,
   "id": "ac41e79a-1a2c-4e6b-b6a4-a1ce3a619f0d",
   "metadata": {},
   "outputs": [
    {
     "name": "stdout",
     "output_type": "stream",
     "text": [
      "testing pairs:\n",
      "YF.download() has changed argument auto_adjust default to True\n"
     ]
    },
    {
     "name": "stderr",
     "output_type": "stream",
     "text": [
      "[*********************100%***********************]  2 of 2 completed\n"
     ]
    },
    {
     "name": "stdout",
     "output_type": "stream",
     "text": [
      "['SPY', 'QQQ']\n",
      "2000-01-04 00:00:00\n",
      "Total Stationary Checks: 1286\n",
      "Total Stationary Checks Passed: 193\n",
      "Percentage of Stationary Checks Passed: 15.01%\n",
      "Warning: Less than 95% of the checks passed. The data may not be suitable for pairs trading.\n"
     ]
    },
    {
     "name": "stderr",
     "output_type": "stream",
     "text": [
      "[*********************100%***********************]  2 of 2 completed\n"
     ]
    },
    {
     "name": "stdout",
     "output_type": "stream",
     "text": [
      "['SPY', 'NVDA']\n",
      "2000-01-04 00:00:00\n",
      "Total Stationary Checks: 1286\n",
      "Total Stationary Checks Passed: 179\n",
      "Percentage of Stationary Checks Passed: 13.92%\n",
      "Warning: Less than 95% of the checks passed. The data may not be suitable for pairs trading.\n"
     ]
    },
    {
     "name": "stderr",
     "output_type": "stream",
     "text": [
      "[*********************100%***********************]  2 of 2 completed\n"
     ]
    },
    {
     "name": "stdout",
     "output_type": "stream",
     "text": [
      "['SPY', 'TSLA']\n",
      "2010-06-30 00:00:00\n",
      "Total Stationary Checks: 758\n",
      "Total Stationary Checks Passed: 148\n",
      "Percentage of Stationary Checks Passed: 19.53%\n",
      "Warning: Less than 95% of the checks passed. The data may not be suitable for pairs trading.\n"
     ]
    },
    {
     "name": "stderr",
     "output_type": "stream",
     "text": [
      "[*********************100%***********************]  2 of 2 completed\n"
     ]
    },
    {
     "name": "stdout",
     "output_type": "stream",
     "text": [
      "['QQQ', 'SPY']\n",
      "2000-01-04 00:00:00\n",
      "Total Stationary Checks: 1286\n",
      "Total Stationary Checks Passed: 210\n",
      "Percentage of Stationary Checks Passed: 16.33%\n",
      "Warning: Less than 95% of the checks passed. The data may not be suitable for pairs trading.\n"
     ]
    },
    {
     "name": "stderr",
     "output_type": "stream",
     "text": [
      "[*********************100%***********************]  2 of 2 completed\n"
     ]
    },
    {
     "name": "stdout",
     "output_type": "stream",
     "text": [
      "['QQQ', 'NVDA']\n",
      "2000-01-04 00:00:00\n",
      "Total Stationary Checks: 1286\n",
      "Total Stationary Checks Passed: 147\n",
      "Percentage of Stationary Checks Passed: 11.43%\n",
      "Warning: Less than 95% of the checks passed. The data may not be suitable for pairs trading.\n"
     ]
    },
    {
     "name": "stderr",
     "output_type": "stream",
     "text": [
      "[*********************100%***********************]  2 of 2 completed\n"
     ]
    },
    {
     "name": "stdout",
     "output_type": "stream",
     "text": [
      "['QQQ', 'TSLA']\n",
      "2010-06-30 00:00:00\n",
      "Total Stationary Checks: 758\n",
      "Total Stationary Checks Passed: 157\n",
      "Percentage of Stationary Checks Passed: 20.71%\n",
      "Warning: Less than 95% of the checks passed. The data may not be suitable for pairs trading.\n"
     ]
    },
    {
     "name": "stderr",
     "output_type": "stream",
     "text": [
      "[*********************100%***********************]  2 of 2 completed\n"
     ]
    },
    {
     "name": "stdout",
     "output_type": "stream",
     "text": [
      "['NVDA', 'SPY']\n",
      "2000-01-04 00:00:00\n",
      "Total Stationary Checks: 1286\n",
      "Total Stationary Checks Passed: 242\n",
      "Percentage of Stationary Checks Passed: 18.82%\n",
      "Warning: Less than 95% of the checks passed. The data may not be suitable for pairs trading.\n"
     ]
    },
    {
     "name": "stderr",
     "output_type": "stream",
     "text": [
      "[*********************100%***********************]  2 of 2 completed\n"
     ]
    },
    {
     "name": "stdout",
     "output_type": "stream",
     "text": [
      "['NVDA', 'QQQ']\n",
      "2000-01-04 00:00:00\n",
      "Total Stationary Checks: 1286\n",
      "Total Stationary Checks Passed: 183\n",
      "Percentage of Stationary Checks Passed: 14.23%\n",
      "Warning: Less than 95% of the checks passed. The data may not be suitable for pairs trading.\n"
     ]
    },
    {
     "name": "stderr",
     "output_type": "stream",
     "text": [
      "[*********************100%***********************]  2 of 2 completed\n"
     ]
    },
    {
     "name": "stdout",
     "output_type": "stream",
     "text": [
      "['NVDA', 'TSLA']\n",
      "2010-06-30 00:00:00\n",
      "Total Stationary Checks: 758\n",
      "Total Stationary Checks Passed: 155\n",
      "Percentage of Stationary Checks Passed: 20.45%\n",
      "Warning: Less than 95% of the checks passed. The data may not be suitable for pairs trading.\n"
     ]
    },
    {
     "name": "stderr",
     "output_type": "stream",
     "text": [
      "[*********************100%***********************]  2 of 2 completed\n"
     ]
    },
    {
     "name": "stdout",
     "output_type": "stream",
     "text": [
      "['TSLA', 'SPY']\n",
      "2010-06-30 00:00:00\n",
      "Total Stationary Checks: 758\n",
      "Total Stationary Checks Passed: 95\n",
      "Percentage of Stationary Checks Passed: 12.53%\n",
      "Warning: Less than 95% of the checks passed. The data may not be suitable for pairs trading.\n"
     ]
    },
    {
     "name": "stderr",
     "output_type": "stream",
     "text": [
      "[*********************100%***********************]  2 of 2 completed\n"
     ]
    },
    {
     "name": "stdout",
     "output_type": "stream",
     "text": [
      "['TSLA', 'QQQ']\n",
      "2010-06-30 00:00:00\n",
      "Total Stationary Checks: 758\n",
      "Total Stationary Checks Passed: 97\n",
      "Percentage of Stationary Checks Passed: 12.80%\n",
      "Warning: Less than 95% of the checks passed. The data may not be suitable for pairs trading.\n"
     ]
    },
    {
     "name": "stderr",
     "output_type": "stream",
     "text": [
      "[*********************100%***********************]  2 of 2 completed\n"
     ]
    },
    {
     "name": "stdout",
     "output_type": "stream",
     "text": [
      "['TSLA', 'NVDA']\n",
      "2010-06-30 00:00:00\n",
      "Total Stationary Checks: 758\n",
      "Total Stationary Checks Passed: 92\n",
      "Percentage of Stationary Checks Passed: 12.14%\n",
      "Warning: Less than 95% of the checks passed. The data may not be suitable for pairs trading.\n"
     ]
    }
   ],
   "source": [
    "test.backtest()"
   ]
  }
 ],
 "metadata": {
  "kernelspec": {
   "display_name": "Python 3 (ipykernel)",
   "language": "python",
   "name": "python3"
  },
  "language_info": {
   "codemirror_mode": {
    "name": "ipython",
    "version": 3
   },
   "file_extension": ".py",
   "mimetype": "text/x-python",
   "name": "python",
   "nbconvert_exporter": "python",
   "pygments_lexer": "ipython3",
   "version": "3.11.11"
  }
 },
 "nbformat": 4,
 "nbformat_minor": 5
}
